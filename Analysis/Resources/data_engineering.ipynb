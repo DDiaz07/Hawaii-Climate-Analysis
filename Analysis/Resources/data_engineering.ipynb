{
 "cells": [
  {
   "cell_type": "code",
   "execution_count": 2,
   "metadata": {
    "collapsed": true
   },
   "outputs": [],
   "source": [
    "#Dependencies\n",
    "import pandas as pd\n"
   ]
  },
  {
   "cell_type": "code",
   "execution_count": 3,
   "metadata": {
    "collapsed": true
   },
   "outputs": [],
   "source": [
    "#Use Pandas to read in the measurement and station CSV files as DataFrames.\n",
    "haw_measure = pd.read_csv(\"hawaii_measurements.csv\")\n",
    "\n",
    "haw_stations = pd.read_csv(\"hawaii_stations.csv\")\n"
   ]
  },
  {
   "cell_type": "code",
   "execution_count": 4,
   "metadata": {},
   "outputs": [
    {
     "name": "stdout",
     "output_type": "stream",
     "text": [
      "               prcp          tobs\n",
      "count  18103.000000  19550.000000\n",
      "mean       0.160644     73.097954\n",
      "std        0.468746      4.523527\n",
      "min        0.000000     53.000000\n",
      "25%        0.000000     70.000000\n",
      "50%        0.010000     73.000000\n",
      "75%        0.110000     76.000000\n",
      "max       11.530000     87.000000\n",
      "station       0\n",
      "date          0\n",
      "prcp       1447\n",
      "tobs          0\n",
      "dtype: int64\n",
      "18103\n"
     ]
    }
   ],
   "source": [
    "#Inspect the data for NaNs and missing values. You must decide what to do with this data.\n",
    "#haw_stations\n",
    "#haw_measure\n",
    "print(haw_measure.describe())\n",
    "print(haw_measure.isnull().sum())\n",
    "print(haw_measure['prcp'].count())"
   ]
  },
  {
   "cell_type": "code",
   "execution_count": 28,
   "metadata": {},
   "outputs": [
    {
     "data": {
      "text/html": [
       "<div>\n",
       "<style scoped>\n",
       "    .dataframe tbody tr th:only-of-type {\n",
       "        vertical-align: middle;\n",
       "    }\n",
       "\n",
       "    .dataframe tbody tr th {\n",
       "        vertical-align: top;\n",
       "    }\n",
       "\n",
       "    .dataframe thead th {\n",
       "        text-align: right;\n",
       "    }\n",
       "</style>\n",
       "<table border=\"1\" class=\"dataframe\">\n",
       "  <thead>\n",
       "    <tr style=\"text-align: right;\">\n",
       "      <th></th>\n",
       "      <th>station</th>\n",
       "      <th>date</th>\n",
       "      <th>prcp</th>\n",
       "      <th>tobs</th>\n",
       "    </tr>\n",
       "  </thead>\n",
       "  <tbody>\n",
       "    <tr>\n",
       "      <th>0</th>\n",
       "      <td>USC00519397</td>\n",
       "      <td>2010-01-01</td>\n",
       "      <td>0.080000</td>\n",
       "      <td>65</td>\n",
       "    </tr>\n",
       "    <tr>\n",
       "      <th>1</th>\n",
       "      <td>USC00519397</td>\n",
       "      <td>2010-01-02</td>\n",
       "      <td>0.000000</td>\n",
       "      <td>63</td>\n",
       "    </tr>\n",
       "    <tr>\n",
       "      <th>2</th>\n",
       "      <td>USC00519397</td>\n",
       "      <td>2010-01-03</td>\n",
       "      <td>0.000000</td>\n",
       "      <td>74</td>\n",
       "    </tr>\n",
       "    <tr>\n",
       "      <th>3</th>\n",
       "      <td>USC00519397</td>\n",
       "      <td>2010-01-04</td>\n",
       "      <td>0.000000</td>\n",
       "      <td>76</td>\n",
       "    </tr>\n",
       "    <tr>\n",
       "      <th>4</th>\n",
       "      <td>USC00519397</td>\n",
       "      <td>2010-01-06</td>\n",
       "      <td>0.160644</td>\n",
       "      <td>73</td>\n",
       "    </tr>\n",
       "  </tbody>\n",
       "</table>\n",
       "</div>"
      ],
      "text/plain": [
       "       station        date      prcp  tobs\n",
       "0  USC00519397  2010-01-01  0.080000    65\n",
       "1  USC00519397  2010-01-02  0.000000    63\n",
       "2  USC00519397  2010-01-03  0.000000    74\n",
       "3  USC00519397  2010-01-04  0.000000    76\n",
       "4  USC00519397  2010-01-06  0.160644    73"
      ]
     },
     "execution_count": 28,
     "metadata": {},
     "output_type": "execute_result"
    }
   ],
   "source": [
    "#Decided to fill the dataset NAN values with the mean value for the column\n",
    "#this preserves all of the tobs data which is not missing values\n",
    "haw_measure.fillna(haw_measure.mean(), inplace=True)\n",
    "# count the number of NaN values in each column\n",
    "#print(haw_measure.isnull().sum())\n",
    "haw_measure.head()"
   ]
  },
  {
   "cell_type": "code",
   "execution_count": 30,
   "metadata": {
    "collapsed": true
   },
   "outputs": [],
   "source": [
    "#Save your cleaned CSV files with the prefix clean_\n",
    "haw_stations.to_csv(\"clean_hawaii_stations.csv\")\n",
    "haw_measure.to_csv(\"clean_hawaii_measurements.csv\")"
   ]
  },
  {
   "cell_type": "code",
   "execution_count": 31,
   "metadata": {
    "collapsed": true
   },
   "outputs": [],
   "source": [
    "#Read the CSV back in to dataframe & inspect it\n",
    "#clean_stations = pd.read_csv(\"clean_hawaii_stations.csv\")\n",
    "#clean_stations\n",
    "clean_measure = pd.read_csv(\"clean_hawaii_measurements.csv\")"
   ]
  },
  {
   "cell_type": "code",
   "execution_count": 6,
   "metadata": {},
   "outputs": [],
   "source": [
    "#Check out clean_measure dataframe\n",
    "clean_measure.head()"
   ]
  },
  {
   "cell_type": "code",
   "execution_count": null,
   "metadata": {
    "collapsed": true
   },
   "outputs": [],
   "source": []
  }
 ],
 "metadata": {
  "kernelspec": {
   "display_name": "Python [conda env:PythonData]",
   "language": "python",
   "name": "conda-env-PythonData-py"
  },
  "language_info": {
   "codemirror_mode": {
    "name": "ipython",
    "version": 3
   },
   "file_extension": ".py",
   "mimetype": "text/x-python",
   "name": "python",
   "nbconvert_exporter": "python",
   "pygments_lexer": "ipython3",
   "version": "3.6.3"
  }
 },
 "nbformat": 4,
 "nbformat_minor": 2
}
